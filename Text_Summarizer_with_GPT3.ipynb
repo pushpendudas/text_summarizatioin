{
 "cells": [
  {
   "cell_type": "code",
   "execution_count": null,
   "id": "a235ef26",
   "metadata": {},
   "outputs": [],
   "source": [
    "import openai_secret_manager\n",
    "\n",
    "assert \"openai\" in openai_secret_manager.get_services()\n",
    "secrets = openai_secret_manager.get_secret(\"openai\")\n",
    "\n",
    "openai.api_key = secrets[\"api_key\"]"
   ]
  },
  {
   "cell_type": "code",
   "execution_count": null,
   "id": "f6a13fdb",
   "metadata": {},
   "outputs": [],
   "source": [
    "import requests\n",
    "\n",
    "url = \"https://www.bbc.com/news/world-us-canada-61685845\"\n",
    "response = requests.get(url)\n",
    "text = response.text"
   ]
  },
  {
   "cell_type": "code",
   "execution_count": null,
   "id": "44d1690b",
   "metadata": {},
   "outputs": [],
   "source": [
    "def split_text(text):\n",
    "    max_chunk_size = 2048\n",
    "    chunks = []\n",
    "    current_chunk = \"\"\n",
    "    for sentence in text.split(\".\"):\n",
    "        if len(current_chunk) + len(sentence) < max_chunk_size:\n",
    "            current_chunk += sentence + \".\"\n",
    "        else:\n",
    "            chunks.append(current_chunk.strip())\n",
    "            current_chunk = sentence + \".\"\n",
    "    if current_chunk:\n",
    "        chunks.append(current_chunk.strip())\n",
    "    return chunks"
   ]
  },
  {
   "cell_type": "code",
   "execution_count": null,
   "id": "fdb01bbd",
   "metadata": {},
   "outputs": [],
   "source": [
    "def generate_summary(text):\n",
    "    input_chunks = split_text(text)\n",
    "    output_chunks = []\n",
    "    for chunk in input_chunks:\n",
    "        response = openai.Completion.create(\n",
    "            engine=\"davinci\",\n",
    "            prompt=(f\"Please summarize the following text:\\n{chunk}\\n\\nSummary:\"),\n",
    "            temperature=0.5,\n",
    "            max_tokens=1024,\n",
    "            n = 1,\n",
    "            stop=None\n",
    "        )\n",
    "        summary = response.choices[0].text.strip()\n",
    "        output_chunks.append(summary)\n",
    "    return \" \".join(output_chunks)"
   ]
  },
  {
   "cell_type": "code",
   "execution_count": null,
   "id": "a626f623",
   "metadata": {},
   "outputs": [],
   "source": []
  },
  {
   "cell_type": "code",
   "execution_count": null,
   "id": "c975f549",
   "metadata": {},
   "outputs": [],
   "source": []
  },
  {
   "cell_type": "code",
   "execution_count": null,
   "id": "602f64f5",
   "metadata": {},
   "outputs": [],
   "source": []
  }
 ],
 "metadata": {
  "kernelspec": {
   "display_name": "Python 3 (ipykernel)",
   "language": "python",
   "name": "python3"
  },
  "language_info": {
   "codemirror_mode": {
    "name": "ipython",
    "version": 3
   },
   "file_extension": ".py",
   "mimetype": "text/x-python",
   "name": "python",
   "nbconvert_exporter": "python",
   "pygments_lexer": "ipython3",
   "version": "3.9.16"
  }
 },
 "nbformat": 4,
 "nbformat_minor": 5
}
